{
 "cells": [
  {
   "cell_type": "code",
   "execution_count": 1,
   "metadata": {},
   "outputs": [
    {
     "name": "stdout",
     "output_type": "stream",
     "text": [
      "      Name  Age  Salary Department Start_Date  Experience  Rating\n",
      "0    Alice   25   50000         HR 2020-01-01           5     4.2\n",
      "1      Bob   30   60000         IT 2019-03-15          10     3.8\n",
      "2  Charlie   35   70000    Finance 2021-05-20           3     4.5\n",
      "3    David   40   80000         HR 2018-09-10          15     4.0\n",
      "4      Eve   45   90000         IT 2022-02-28           2     4.7\n"
     ]
    }
   ],
   "source": [
    "import pandas as pd\n",
    "import numpy as np\n",
    "data = {\n",
    "'Name': ['Alice', 'Bob', 'Charlie', 'David', 'Eve'],\n",
    "'Age': [25, 30, 35, 40, 45],\n",
    "'Salary': [50000, 60000, 70000, 80000, 90000],\n",
    "'Department': ['HR', 'IT', 'Finance', 'HR', 'IT'],\n",
    "'Start_Date': pd.to_datetime(['2020-01-01', '2019-03-15', '2021-05-20', '2018-09-10', '2022-02-28']),\n",
    "'Experience': [5, 10, 3, 15, 2],\n",
    "'Rating': [4.2, 3.8, 4.5, 4.0, 4.7]\n",
    "}\n",
    "df=pd.DataFrame(data)\n",
    "print(df)"
   ]
  },
  {
   "cell_type": "markdown",
   "metadata": {},
   "source": [
    "Question 1: Selecting a Subset of the DataFrame\n",
    "Let's select employees who are older than 30:"
   ]
  },
  {
   "cell_type": "code",
   "execution_count": 7,
   "metadata": {},
   "outputs": [
    {
     "name": "stdout",
     "output_type": "stream",
     "text": [
      "      Name  Age  Salary Department Start_Date  Experience  Rating\n",
      "2  Charlie   35   70000    Finance 2021-05-20           3     4.5\n",
      "3    David   40   80000         HR 2018-09-10          15     4.0\n",
      "4      Eve   45   90000         IT 2022-02-28           2     4.7\n"
     ]
    }
   ],
   "source": [
    "df1 = df[df['Age'] > 30]\n",
    "print(df1)"
   ]
  },
  {
   "cell_type": "markdown",
   "metadata": {},
   "source": [
    "Question 2: Creating New Columns Derived from Existing Columns\n",
    "Let's create a new column called \"Age_Group\" based on the age of the employees:"
   ]
  },
  {
   "cell_type": "code",
   "execution_count": 2,
   "metadata": {},
   "outputs": [],
   "source": [
    "def age_group(age):\n",
    "    if age < 30:\n",
    "        return 'Young'\n",
    "    elif 30 <= age < 45:\n",
    "        return 'Midd'\n",
    "    else:\n",
    "        return 'old'"
   ]
  },
  {
   "cell_type": "code",
   "execution_count": 3,
   "metadata": {},
   "outputs": [
    {
     "name": "stdout",
     "output_type": "stream",
     "text": [
      "      Name  Age  Salary Department Start_Date  Experience  Rating Age_Group\n",
      "0    Alice   25   50000         HR 2020-01-01           5     4.2     Young\n",
      "1      Bob   30   60000         IT 2019-03-15          10     3.8      Midd\n",
      "2  Charlie   35   70000    Finance 2021-05-20           3     4.5      Midd\n",
      "3    David   40   80000         HR 2018-09-10          15     4.0      Midd\n",
      "4      Eve   45   90000         IT 2022-02-28           2     4.7       old\n"
     ]
    }
   ],
   "source": [
    "df['Age_Group'] = df['Age'].apply(age_group)\n",
    "\n",
    "print(df)"
   ]
  },
  {
   "cell_type": "markdown",
   "metadata": {},
   "source": [
    "Question 3: Calculating Summary Statistics\n",
    "Let's calculate summary statistics for the numerical columns in the DataFrame:"
   ]
  },
  {
   "cell_type": "code",
   "execution_count": 4,
   "metadata": {},
   "outputs": [
    {
     "name": "stdout",
     "output_type": "stream",
     "text": [
      "             Salary  Experience\n",
      "count      5.000000     5.00000\n",
      "mean   70000.000000     7.00000\n",
      "std    15811.388301     5.43139\n",
      "min    50000.000000     2.00000\n",
      "25%    60000.000000     3.00000\n",
      "50%    70000.000000     5.00000\n",
      "75%    80000.000000    10.00000\n",
      "max    90000.000000    15.00000\n"
     ]
    }
   ],
   "source": [
    "summary_stats=df[[\"Salary\",\"Experience\"]].describe()\n",
    "print(summary_stats)"
   ]
  },
  {
   "cell_type": "markdown",
   "metadata": {},
   "source": [
    "Question 4: Reshaping the Layout of Tables\n",
    "Let's reshape the DataFrame to have \"Name\" as the index and \"Department\" as columns, with\n",
    "\"Salary\" as values:"
   ]
  },
  {
   "cell_type": "code",
   "execution_count": 5,
   "metadata": {},
   "outputs": [
    {
     "name": "stdout",
     "output_type": "stream",
     "text": [
      "Department  Finance       HR       IT\n",
      "Name                                 \n",
      "Alice           NaN  50000.0      NaN\n",
      "Bob             NaN      NaN  60000.0\n",
      "Charlie     70000.0      NaN      NaN\n",
      "David           NaN  80000.0      NaN\n",
      "Eve             NaN      NaN  90000.0\n"
     ]
    }
   ],
   "source": [
    "\n",
    "reshaped_data= df.pivot(index='Name', columns='Department', values='Salary')\n",
    "\n",
    "print(reshaped_data)"
   ]
  },
  {
   "cell_type": "markdown",
   "metadata": {},
   "source": [
    "Question 5: Combining Data from Multiple Tables\n",
    "Let's create another DataFrame with bonus information and merge it with the original \n",
    "DataFrame:\n"
   ]
  },
  {
   "cell_type": "code",
   "execution_count": 6,
   "metadata": {},
   "outputs": [],
   "source": [
    "bonus_data = {\n",
    "    'Bonus': [200,400,600,800,1000]\n",
    "}"
   ]
  },
  {
   "cell_type": "code",
   "execution_count": 7,
   "metadata": {},
   "outputs": [
    {
     "name": "stdout",
     "output_type": "stream",
     "text": [
      "      Name   Age   Salary Department Start_Date  Experience  Rating Age_Group  \\\n",
      "0    Alice  25.0  50000.0         HR 2020-01-01         5.0     4.2     Young   \n",
      "1      Bob  30.0  60000.0         IT 2019-03-15        10.0     3.8      Midd   \n",
      "2  Charlie  35.0  70000.0    Finance 2021-05-20         3.0     4.5      Midd   \n",
      "3    David  40.0  80000.0         HR 2018-09-10        15.0     4.0      Midd   \n",
      "4      Eve  45.0  90000.0         IT 2022-02-28         2.0     4.7       old   \n",
      "5      NaN   NaN      NaN        NaN        NaT         NaN     NaN       NaN   \n",
      "6      NaN   NaN      NaN        NaN        NaT         NaN     NaN       NaN   \n",
      "7      NaN   NaN      NaN        NaN        NaT         NaN     NaN       NaN   \n",
      "8      NaN   NaN      NaN        NaN        NaT         NaN     NaN       NaN   \n",
      "9      NaN   NaN      NaN        NaN        NaT         NaN     NaN       NaN   \n",
      "\n",
      "    Bonus  \n",
      "0     NaN  \n",
      "1     NaN  \n",
      "2     NaN  \n",
      "3     NaN  \n",
      "4     NaN  \n",
      "5   200.0  \n",
      "6   400.0  \n",
      "7   600.0  \n",
      "8   800.0  \n",
      "9  1000.0  \n"
     ]
    }
   ],
   "source": [
    "df_additional=pd.DataFrame(bonus_data)\n",
    "concatenated_data=pd.concat([df,df_additional],ignore_index=True)\n",
    "print(concatenated_data)"
   ]
  },
  {
   "cell_type": "markdown",
   "metadata": {},
   "source": [
    "Question 7: Filtering Data Based on Multiple Conditions\n",
    "Let's filter the DataFrame to include only employees from the IT department who are older \n",
    "than 30:"
   ]
  },
  {
   "cell_type": "code",
   "execution_count": 8,
   "metadata": {},
   "outputs": [
    {
     "data": {
      "text/html": [
       "<div>\n",
       "<style scoped>\n",
       "    .dataframe tbody tr th:only-of-type {\n",
       "        vertical-align: middle;\n",
       "    }\n",
       "\n",
       "    .dataframe tbody tr th {\n",
       "        vertical-align: top;\n",
       "    }\n",
       "\n",
       "    .dataframe thead th {\n",
       "        text-align: right;\n",
       "    }\n",
       "</style>\n",
       "<table border=\"1\" class=\"dataframe\">\n",
       "  <thead>\n",
       "    <tr style=\"text-align: right;\">\n",
       "      <th></th>\n",
       "      <th>Name</th>\n",
       "      <th>Age</th>\n",
       "      <th>Salary</th>\n",
       "      <th>Department</th>\n",
       "      <th>Start_Date</th>\n",
       "      <th>Experience</th>\n",
       "      <th>Rating</th>\n",
       "      <th>Age_Group</th>\n",
       "    </tr>\n",
       "  </thead>\n",
       "  <tbody>\n",
       "    <tr>\n",
       "      <th>4</th>\n",
       "      <td>Eve</td>\n",
       "      <td>45</td>\n",
       "      <td>90000</td>\n",
       "      <td>IT</td>\n",
       "      <td>2022-02-28</td>\n",
       "      <td>2</td>\n",
       "      <td>4.7</td>\n",
       "      <td>old</td>\n",
       "    </tr>\n",
       "  </tbody>\n",
       "</table>\n",
       "</div>"
      ],
      "text/plain": [
       "  Name  Age  Salary Department Start_Date  Experience  Rating Age_Group\n",
       "4  Eve   45   90000         IT 2022-02-28           2     4.7       old"
      ]
     },
     "execution_count": 8,
     "metadata": {},
     "output_type": "execute_result"
    }
   ],
   "source": [
    "subset=df[(df[\"Department\"]==\"IT\") & (df[\"Age\"]>30)]\n",
    "subset"
   ]
  },
  {
   "cell_type": "markdown",
   "metadata": {},
   "source": [
    "Question 8: Creating a New Column Based on Conditions\n",
    "Let's create a new column called \"Performance\" based on the employee's rating:"
   ]
  },
  {
   "cell_type": "code",
   "execution_count": 9,
   "metadata": {},
   "outputs": [],
   "source": [
    "def checked_performance(rating):\n",
    "    if rating>4.8:\n",
    "        return \"Very Good\"\n",
    "    if rating>4.5:\n",
    "        return \"Good\"\n",
    "    if rating>4.0:\n",
    "        return \"Avg.\"\n",
    "    else:\n",
    "        return \"Poor\""
   ]
  },
  {
   "cell_type": "code",
   "execution_count": 10,
   "metadata": {},
   "outputs": [
    {
     "name": "stdout",
     "output_type": "stream",
     "text": [
      "      Name  Age  Salary Department Start_Date  Experience  Rating Age_Group  \\\n",
      "0    Alice   25   50000         HR 2020-01-01           5     4.2     Young   \n",
      "1      Bob   30   60000         IT 2019-03-15          10     3.8      Midd   \n",
      "2  Charlie   35   70000    Finance 2021-05-20           3     4.5      Midd   \n",
      "3    David   40   80000         HR 2018-09-10          15     4.0      Midd   \n",
      "4      Eve   45   90000         IT 2022-02-28           2     4.7       old   \n",
      "\n",
      "  Performance  \n",
      "0        Avg.  \n",
      "1        Poor  \n",
      "2        Avg.  \n",
      "3        Poor  \n",
      "4        Good  \n"
     ]
    }
   ],
   "source": [
    "df['Performance']=df['Rating'].apply(checked_performance)\n",
    "print(df)"
   ]
  },
  {
   "cell_type": "markdown",
   "metadata": {},
   "source": [
    "Question 9: Calculating Group-Wise Summary Statistics\n",
    "Let's calculate the mean salary and experience for each department:"
   ]
  },
  {
   "cell_type": "code",
   "execution_count": 11,
   "metadata": {},
   "outputs": [
    {
     "data": {
      "text/html": [
       "<div>\n",
       "<style scoped>\n",
       "    .dataframe tbody tr th:only-of-type {\n",
       "        vertical-align: middle;\n",
       "    }\n",
       "\n",
       "    .dataframe tbody tr th {\n",
       "        vertical-align: top;\n",
       "    }\n",
       "\n",
       "    .dataframe thead th {\n",
       "        text-align: right;\n",
       "    }\n",
       "</style>\n",
       "<table border=\"1\" class=\"dataframe\">\n",
       "  <thead>\n",
       "    <tr style=\"text-align: right;\">\n",
       "      <th></th>\n",
       "      <th>Salary</th>\n",
       "      <th>Experience</th>\n",
       "    </tr>\n",
       "    <tr>\n",
       "      <th>Department</th>\n",
       "      <th></th>\n",
       "      <th></th>\n",
       "    </tr>\n",
       "  </thead>\n",
       "  <tbody>\n",
       "    <tr>\n",
       "      <th>Finance</th>\n",
       "      <td>70000.0</td>\n",
       "      <td>3.0</td>\n",
       "    </tr>\n",
       "    <tr>\n",
       "      <th>HR</th>\n",
       "      <td>65000.0</td>\n",
       "      <td>10.0</td>\n",
       "    </tr>\n",
       "    <tr>\n",
       "      <th>IT</th>\n",
       "      <td>75000.0</td>\n",
       "      <td>6.0</td>\n",
       "    </tr>\n",
       "  </tbody>\n",
       "</table>\n",
       "</div>"
      ],
      "text/plain": [
       "             Salary  Experience\n",
       "Department                     \n",
       "Finance     70000.0         3.0\n",
       "HR          65000.0        10.0\n",
       "IT          75000.0         6.0"
      ]
     },
     "execution_count": 11,
     "metadata": {},
     "output_type": "execute_result"
    }
   ],
   "source": [
    "kri=df.groupby(\"Department\").agg({\"Salary\":\"mean\",\n",
    "\"Experience\":\"mean\"})\n",
    "kri"
   ]
  },
  {
   "cell_type": "markdown",
   "metadata": {},
   "source": [
    "Question 10: Sorting Data\n",
    "Let's sort the DataFrame by age in descending order:"
   ]
  },
  {
   "cell_type": "code",
   "execution_count": 12,
   "metadata": {},
   "outputs": [
    {
     "name": "stdout",
     "output_type": "stream",
     "text": [
      "      Name  Age  Salary Department Start_Date  Experience  Rating Age_Group  \\\n",
      "4      Eve   45   90000         IT 2022-02-28           2     4.7       old   \n",
      "3    David   40   80000         HR 2018-09-10          15     4.0      Midd   \n",
      "2  Charlie   35   70000    Finance 2021-05-20           3     4.5      Midd   \n",
      "1      Bob   30   60000         IT 2019-03-15          10     3.8      Midd   \n",
      "0    Alice   25   50000         HR 2020-01-01           5     4.2     Young   \n",
      "\n",
      "  Performance  \n",
      "4        Good  \n",
      "3        Poor  \n",
      "2        Avg.  \n",
      "1        Poor  \n",
      "0        Avg.  \n"
     ]
    }
   ],
   "source": [
    "sorted_data=df.sort_values(by=\"Age\",ascending=False)\n",
    "print(sorted_data)"
   ]
  },
  {
   "cell_type": "markdown",
   "metadata": {},
   "source": [
    "Question 11: Concatenating DataFrames\n",
    "Let's create a new DataFrame with additional employee information and concatenate it with \n",
    "the original DataFrame:"
   ]
  },
  {
   "cell_type": "code",
   "execution_count": 13,
   "metadata": {},
   "outputs": [],
   "source": [
    "additional_data = {\n",
    "'Name': ['Krishan','Rohit'],\n",
    "'Age': [22,23],\n",
    "'Salary': [10000,11000],\n",
    "'Department': ['HR', 'IT'],\n",
    "'Start_Date': pd.to_datetime(['2020-02-01', '2019-02-15']),\n",
    "'Experience': [4,7],\n",
    "'Rating': [4.4,3.9],\n",
    "'Performance':['nan','nan']\n",
    "}"
   ]
  },
  {
   "cell_type": "code",
   "execution_count": 14,
   "metadata": {},
   "outputs": [
    {
     "name": "stdout",
     "output_type": "stream",
     "text": [
      "      Name  Age  Salary Department Start_Date  Experience  Rating Age_Group  \\\n",
      "0    Alice   25   50000         HR 2020-01-01           5     4.2     Young   \n",
      "1      Bob   30   60000         IT 2019-03-15          10     3.8      Midd   \n",
      "2  Charlie   35   70000    Finance 2021-05-20           3     4.5      Midd   \n",
      "3    David   40   80000         HR 2018-09-10          15     4.0      Midd   \n",
      "4      Eve   45   90000         IT 2022-02-28           2     4.7       old   \n",
      "5  Krishan   22   10000         HR 2020-02-01           4     4.4       NaN   \n",
      "6    Rohit   23   11000         IT 2019-02-15           7     3.9       NaN   \n",
      "\n",
      "  Performance  \n",
      "0        Avg.  \n",
      "1        Poor  \n",
      "2        Avg.  \n",
      "3        Poor  \n",
      "4        Good  \n",
      "5         nan  \n",
      "6         nan  \n"
     ]
    }
   ],
   "source": [
    "df_additional=pd.DataFrame(additional_data)\n",
    "concatenated_data=pd.concat([df,df_additional],ignore_index=True)\n",
    "print(concatenated_data)"
   ]
  }
 ],
 "metadata": {
  "kernelspec": {
   "display_name": "Python 3",
   "language": "python",
   "name": "python3"
  },
  "language_info": {
   "codemirror_mode": {
    "name": "ipython",
    "version": 3
   },
   "file_extension": ".py",
   "mimetype": "text/x-python",
   "name": "python",
   "nbconvert_exporter": "python",
   "pygments_lexer": "ipython3",
   "version": "3.12.2"
  }
 },
 "nbformat": 4,
 "nbformat_minor": 2
}
